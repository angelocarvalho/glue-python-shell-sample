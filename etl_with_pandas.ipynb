{
 "cells": [
  {
   "cell_type": "code",
   "execution_count": 1,
   "metadata": {},
   "outputs": [
    {
     "name": "stdout",
     "output_type": "stream",
     "text": [
      "Collecting pandas\n",
      "  Using cached https://files.pythonhosted.org/packages/52/3f/f6a428599e0d4497e1595030965b5ba455fd8ade6e977e3c819973c4b41d/pandas-0.25.3-cp36-cp36m-manylinux1_x86_64.whl\n",
      "Collecting numpy>=1.13.3\n",
      "  Using cached https://files.pythonhosted.org/packages/d2/ab/43e678759326f728de861edbef34b8e2ad1b1490505f20e0d1f0716c3bf4/numpy-1.17.4-cp36-cp36m-manylinux1_x86_64.whl\n",
      "Requirement already satisfied: python-dateutil>=2.6.1 in /usr/local/lib/python3.6/site-packages (from pandas) (2.8.1)\n",
      "Collecting pytz>=2017.2\n",
      "  Using cached https://files.pythonhosted.org/packages/e7/f9/f0b53f88060247251bf481fa6ea62cd0d25bf1b11a87888e53ce5b7c8ad2/pytz-2019.3-py2.py3-none-any.whl\n",
      "Requirement already satisfied: six>=1.5 in /usr/local/lib/python3.6/site-packages (from python-dateutil>=2.6.1->pandas) (1.13.0)\n",
      "Installing collected packages: numpy, pytz, pandas\n",
      "Successfully installed numpy-1.17.4 pandas-0.25.3 pytz-2019.3\n",
      "Collecting pyarrow\n",
      "  Using cached https://files.pythonhosted.org/packages/6c/32/ce1926f05679ea5448fd3b98fbd9419d8c7a65f87d1a12ee5fb9577e3a8e/pyarrow-0.15.1-cp36-cp36m-manylinux2010_x86_64.whl\n",
      "Requirement already satisfied: six>=1.0.0 in /usr/local/lib/python3.6/site-packages (from pyarrow) (1.13.0)\n",
      "Requirement already satisfied: numpy>=1.14 in /usr/local/lib/python3.6/site-packages (from pyarrow) (1.17.4)\n",
      "Installing collected packages: pyarrow\n",
      "Successfully installed pyarrow-0.15.1\n",
      "Collecting s3fs\n",
      "  Using cached https://files.pythonhosted.org/packages/72/5c/ec84c7ec49fde2c3b0d885ecae4504fa40fc77fef7684e9f2939c50f9b94/s3fs-0.4.0-py3-none-any.whl\n",
      "Collecting boto3>=1.9.91\n",
      "\u001b[?25l  Downloading https://files.pythonhosted.org/packages/be/04/7744980154abb220792503968cf0aac28a19f5c9be974635c747b553adf1/boto3-1.10.36-py2.py3-none-any.whl (128kB)\n",
      "\u001b[K     |################################| 133kB 2.9MB/s eta 0:00:01\n",
      "\u001b[?25hCollecting botocore>=1.12.91\n",
      "\u001b[?25l  Downloading https://files.pythonhosted.org/packages/08/e0/e47a793322fd68381e4cda4f98740c558c9ef2a87e71d06589048f59cbcb/botocore-1.13.36-py2.py3-none-any.whl (5.8MB)\n",
      "\u001b[K     |################################| 5.8MB 59.7MB/s eta 0:00:01\n",
      "\u001b[?25hCollecting fsspec>=0.6.0\n",
      "  Using cached https://files.pythonhosted.org/packages/04/1e/6108c48f2d4ad9ef1a6bff01fb58245c009f37b2bd0505ec6d0f55cc326d/fsspec-0.6.1-py3-none-any.whl\n",
      "Collecting jmespath<1.0.0,>=0.7.1\n",
      "  Using cached https://files.pythonhosted.org/packages/83/94/7179c3832a6d45b266ddb2aac329e101367fbdb11f425f13771d27f225bb/jmespath-0.9.4-py2.py3-none-any.whl\n",
      "Collecting s3transfer<0.3.0,>=0.2.0\n",
      "  Using cached https://files.pythonhosted.org/packages/16/8a/1fc3dba0c4923c2a76e1ff0d52b305c44606da63f718d14d3231e21c51b0/s3transfer-0.2.1-py2.py3-none-any.whl\n",
      "Collecting python-dateutil<2.8.1,>=2.1; python_version >= \"2.7\"\n",
      "  Using cached https://files.pythonhosted.org/packages/41/17/c62faccbfbd163c7f57f3844689e3a78bae1f403648a6afb1d0866d87fbb/python_dateutil-2.8.0-py2.py3-none-any.whl\n",
      "Collecting urllib3<1.26,>=1.20; python_version >= \"3.4\"\n",
      "  Using cached https://files.pythonhosted.org/packages/b4/40/a9837291310ee1ccc242ceb6ebfd9eb21539649f193a7c8c86ba15b98539/urllib3-1.25.7-py2.py3-none-any.whl\n",
      "Collecting docutils<0.16,>=0.10\n",
      "  Using cached https://files.pythonhosted.org/packages/22/cd/a6aa959dca619918ccb55023b4cb151949c64d4d5d55b3f4ffd7eee0c6e8/docutils-0.15.2-py3-none-any.whl\n",
      "Requirement already satisfied: six>=1.5 in /usr/local/lib/python3.6/site-packages (from python-dateutil<2.8.1,>=2.1; python_version >= \"2.7\"->botocore>=1.12.91->s3fs) (1.13.0)\n",
      "Installing collected packages: jmespath, python-dateutil, urllib3, docutils, botocore, s3transfer, boto3, fsspec, s3fs\n",
      "  Found existing installation: python-dateutil 2.8.1\n",
      "    Uninstalling python-dateutil-2.8.1:\n",
      "      Successfully uninstalled python-dateutil-2.8.1\n",
      "Successfully installed boto3-1.10.36 botocore-1.13.36 docutils-0.15.2 fsspec-0.6.1 jmespath-0.9.4 python-dateutil-2.8.0 s3fs-0.4.0 s3transfer-0.2.1 urllib3-1.25.7\n"
     ]
    }
   ],
   "source": [
    "!pip install pandas\n",
    "!pip install pyarrow\n",
    "!pip install s3fs"
   ]
  },
  {
   "cell_type": "code",
   "execution_count": 2,
   "metadata": {},
   "outputs": [],
   "source": [
    "import urllib.request\n",
    "from zipfile import ZipFile\n",
    "import pandas as pd"
   ]
  },
  {
   "cell_type": "code",
   "execution_count": 3,
   "metadata": {},
   "outputs": [
    {
     "name": "stdout",
     "output_type": "stream",
     "text": [
      "downloading file from movielens website...\n"
     ]
    },
    {
     "data": {
      "text/plain": [
       "('/tmp/ml-1m.zip', <http.client.HTTPMessage at 0x7f85f1522c18>)"
      ]
     },
     "execution_count": 3,
     "metadata": {},
     "output_type": "execute_result"
    }
   ],
   "source": [
    "bucket = \"angelo-datalake\"\n",
    "\n",
    "# download MovieLens 1M Dataset\n",
    "print(\"downloading file from movielens website...\")\n",
    "urllib.request.urlretrieve(\n",
    "        'http://files.grouplens.org/datasets/movielens/ml-1m.zip',\n",
    "        '/tmp/ml-1m.zip')"
   ]
  },
  {
   "cell_type": "code",
   "execution_count": 4,
   "metadata": {},
   "outputs": [
    {
     "name": "stdout",
     "output_type": "stream",
     "text": [
      "extracting dataset into tmp folder...\n"
     ]
    }
   ],
   "source": [
    "# extract the zip file\n",
    "print(\"extracting dataset into tmp folder...\")\n",
    "with ZipFile('/tmp/ml-1m.zip', 'r') as zipObj:\n",
    "   zipObj.extractall('/tmp/')"
   ]
  },
  {
   "cell_type": "code",
   "execution_count": 5,
   "metadata": {},
   "outputs": [
    {
     "name": "stdout",
     "output_type": "stream",
     "text": [
      "reading csv files...\n",
      "movies_df has 3883 lines\n",
      "ratings_df has 1000209 lines\n"
     ]
    }
   ],
   "source": [
    "# read the csv\n",
    "print(\"reading csv files...\")\n",
    "movies_df = pd.read_csv(\"/tmp/ml-1m/movies.dat\", \"::\", \n",
    "                        engine='python', \n",
    "                        header=None, \n",
    "                        names=['movieid', 'title', 'genres']) \n",
    "print(\"movies_df has %s lines\" % movies_df.shape[0])\n",
    "ratings_df = pd.read_csv(\"/tmp/ml-1m/ratings.dat\", \"::\", \n",
    "                         engine='python', \n",
    "                         header=None, \n",
    "                         names=['userid', 'movieid', 'rating', 'timestamp']) \n",
    "print(\"ratings_df has %s lines\" % ratings_df.shape[0])"
   ]
  },
  {
   "cell_type": "code",
   "execution_count": 6,
   "metadata": {},
   "outputs": [
    {
     "name": "stdout",
     "output_type": "stream",
     "text": [
      "merging dataframes...\n",
      "aggregating data...\n"
     ]
    }
   ],
   "source": [
    "# join both dataframes\n",
    "print(\"merging dataframes...\")\n",
    "merged_df = pd.merge(movies_df, ratings_df, on='movieid')\n",
    "\n",
    "# aggregate data from dataframes, counting votes...\n",
    "print(\"aggregating data...\")\n",
    "aggregation_df = merged_df.groupby('title').agg({'rating': ['count', 'mean']})\n",
    "aggregation_df.columns = aggregation_df.columns.droplevel(level=0)\n",
    "aggregation_df = aggregation_df.rename(columns={\n",
    "    \"count\": \"rating_count\", \"mean\": \"rating_mean\"\n",
    "})"
   ]
  },
  {
   "cell_type": "code",
   "execution_count": 7,
   "metadata": {},
   "outputs": [
    {
     "name": "stdout",
     "output_type": "stream",
     "text": [
      "sorting data...\n"
     ]
    }
   ],
   "source": [
    "# sorting data and filtering only movies with more than 1000 votes...\n",
    "print(\"sorting data...\")\n",
    "aggregation_df = aggregation_df.sort_values(\n",
    "        'rating_mean', \n",
    "        ascending=False).loc[aggregation_df['rating_count'] > 1000].head()"
   ]
  },
  {
   "cell_type": "code",
   "execution_count": 8,
   "metadata": {},
   "outputs": [
    {
     "name": "stdout",
     "output_type": "stream",
     "text": [
      "writing file to s3...\n"
     ]
    }
   ],
   "source": [
    "# writing data...\n",
    "print(\"writing file to s3...\")\n",
    "aggregation_df.to_parquet(\n",
    "        \"s3://\" + \n",
    "        bucket + \n",
    "        \"/data/processed/best_movies/best_movies.parquet.snappy\")"
   ]
  },
  {
   "cell_type": "code",
   "execution_count": 9,
   "metadata": {},
   "outputs": [
    {
     "name": "stdout",
     "output_type": "stream",
     "text": [
      "reading file from s3 and printing result...\n",
      "result_df has 10 lines\n"
     ]
    }
   ],
   "source": [
    "# reading data...\n",
    "print(\"reading file from s3 and printing result...\")\n",
    "result_df = pd.read_parquet(\n",
    "        \"s3://\" + \n",
    "        bucket + \n",
    "        \"/data/processed/best_movies/best_movies.parquet.snappy\")\n",
    "print(\"result_df has %s lines\" % result_df.size)"
   ]
  },
  {
   "cell_type": "code",
   "execution_count": 10,
   "metadata": {},
   "outputs": [
    {
     "name": "stdout",
     "output_type": "stream",
     "text": [
      "Best rated movie is: \n",
      "                                  rating_count  rating_mean\n",
      "title                                                      \n",
      "Shawshank Redemption, The (1994)          2227     4.554558\n"
     ]
    }
   ],
   "source": [
    "print(\"Best rated movie is: \")\n",
    "print(result_df[0:1])"
   ]
  },
  {
   "cell_type": "code",
   "execution_count": null,
   "metadata": {},
   "outputs": [],
   "source": []
  }
 ],
 "metadata": {
  "kernelspec": {
   "display_name": "Python 3 (Base Python)",
   "language": "python",
   "name": "python3__SAGEMAKER_INTERNAL__arn:aws:sagemaker:us-east-2:429704687514:environment/base-python"
  },
  "language_info": {
   "codemirror_mode": {
    "name": "ipython",
    "version": 3
   },
   "file_extension": ".py",
   "mimetype": "text/x-python",
   "name": "python",
   "nbconvert_exporter": "python",
   "pygments_lexer": "ipython3",
   "version": "3.6.9"
  }
 },
 "nbformat": 4,
 "nbformat_minor": 4
}
